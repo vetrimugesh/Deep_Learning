{
 "cells": [
  {
   "cell_type": "code",
   "execution_count": 1,
   "id": "88e33dc6",
   "metadata": {},
   "outputs": [
    {
     "name": "stdout",
     "output_type": "stream",
     "text": [
      "Enter your age: 50\n",
      "Enter your height in cm: 180\n",
      "Enter your weight in kg: 60\n",
      "Accuracy: 69.70%\n",
      "The predicted gender is: Male\n"
     ]
    }
   ],
   "source": [
    "import pandas as pd\n",
    "from sklearn.model_selection import train_test_split\n",
    "import matplotlib.pyplot as plt\n",
    "from sklearn.linear_model import LogisticRegression\n",
    "from sklearn.preprocessing import StandardScaler\n",
    "\n",
    "data = pd.read_csv('gender.csv')\n",
    "\n",
    "x = data.iloc[:, 1:4]\n",
    "y = data.iloc[:, 0]\n",
    "x.columns = ['Age', 'Height (cm)', 'Weight (kg)']\n",
    "\n",
    "x_train, x_test, y_train, y_test = train_test_split(x, y, test_size=0.25)\n",
    "\n",
    "scaler = StandardScaler()\n",
    "x_train = scaler.fit_transform(x_train)\n",
    "x_test = scaler.transform(x_test)\n",
    "\n",
    "model = LogisticRegression()\n",
    "model.fit(x_train, y_train)\n",
    "\n",
    "age = int(input('Enter your age: '))\n",
    "height = int(input('Enter your height in cm: '))\n",
    "weight = float(input('Enter your weight in kg: '))\n",
    "user_input = pd.DataFrame({'Age': [age], 'Height (cm)': [height], 'Weight (kg)': [weight]})\n",
    "\n",
    "user_input_scaled = scaler.transform(user_input)\n",
    "\n",
    "prediction = model.predict(user_input_scaled)\n",
    "\n",
    "accuracy = model.score(x_test, y_test)\n",
    "print(\"Accuracy: {:.2f}%\".format(accuracy * 100))\n",
    "\n",
    "if prediction == 0:\n",
    "    print(\"The predicted gender is: Female\")\n",
    "else:\n",
    "    print(\"The predicted gender is: Male\")\n",
    "\n"
   ]
  },
  {
   "cell_type": "code",
   "execution_count": null,
   "id": "9fff64b0",
   "metadata": {},
   "outputs": [],
   "source": []
  }
 ],
 "metadata": {
  "kernelspec": {
   "display_name": "Python 3 (ipykernel)",
   "language": "python",
   "name": "python3"
  },
  "language_info": {
   "codemirror_mode": {
    "name": "ipython",
    "version": 3
   },
   "file_extension": ".py",
   "mimetype": "text/x-python",
   "name": "python",
   "nbconvert_exporter": "python",
   "pygments_lexer": "ipython3",
   "version": "3.9.12"
  }
 },
 "nbformat": 4,
 "nbformat_minor": 5
}
